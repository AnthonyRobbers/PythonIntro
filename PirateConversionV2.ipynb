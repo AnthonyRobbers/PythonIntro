{
 "cells": [
  {
   "cell_type": "code",
   "execution_count": 1,
   "metadata": {
    "collapsed": true
   },
   "outputs": [],
   "source": [
    "import urllib\n"
   ]
  },
  {
   "cell_type": "code",
   "execution_count": 2,
   "metadata": {
    "collapsed": true
   },
   "outputs": [],
   "source": [
    "def get_text():\n",
    "    contents_of_file = raw_input(\"The text to be converted:\")\n",
    "    # raw_input is required since it tries to execute anything given not get a string\n",
    "    return contents_of_file\n"
   ]
  },
  {
   "cell_type": "code",
   "execution_count": 3,
   "metadata": {
    "collapsed": true
   },
   "outputs": [],
   "source": [
    "def read_text():\n",
    "    quotes = open(\"C:\\Python27\\movie_quotes.txt\")\n",
    "    contents_of_file = quotes.read()\n",
    "    #print(contents_of_file)\n",
    "    quotes.close()    \n",
    "    return contents_of_file\n"
   ]
  },
  {
   "cell_type": "code",
   "execution_count": 4,
   "metadata": {
    "collapsed": true
   },
   "outputs": [],
   "source": [
    "def check_profanity(text_to_check):\n",
    "    connection = urllib.urlopen(\"http://www.wdylike.appspot.com/?q=\"+text_to_check)\n",
    "    output = connection.read()\n",
    "    print(output)\n",
    "    connection.close()\n",
    "    \n",
    "# for pirate contersion - http://isithackday.com/arrpi.php?text=\n",
    "# for profanity check - http://www.wdylike.appspot.com/?q=\n",
    "\n"
   ]
  },
  {
   "cell_type": "code",
   "execution_count": 5,
   "metadata": {
    "collapsed": true
   },
   "outputs": [],
   "source": [
    "def make_it_piraty(text_to_check):\n",
    "    connection = urllib.urlopen(\"http://isithackday.com/arrpi.php?text=\"+text_to_check)\n",
    "    output = connection.read()\n",
    "    print(output)\n",
    "    connection.close()\n",
    "\n"
   ]
  },
  {
   "cell_type": "code",
   "execution_count": 6,
   "metadata": {
    "collapsed": true
   },
   "outputs": [],
   "source": [
    "def Output_step(text_to_check):\n",
    "    profane_or_pirate = input(\"1 for profanity check and 2 for pirate conversion.\")\n",
    "    if profane_or_pirate == 1:\n",
    "        check_profanity(text_to_check)\n",
    "    elif profane_or_pirate == 2:\n",
    "        make_it_piraty(text_to_check)\n",
    "    else:\n",
    "        print(\"that was not a 1 or 2\")\n",
    "\n"
   ]
  },
  {
   "cell_type": "code",
   "execution_count": 7,
   "metadata": {
    "collapsed": true
   },
   "outputs": [],
   "source": [
    "def decide():\n",
    "    file_or_type = input(\"1 for reading from a prompt and 2 for read from file.\")\n",
    "    if file_or_type == 1:\n",
    "        Output_step(get_text())\n",
    "    elif file_or_type == 2:\n",
    "        Output_step(read_text())\n",
    "    else:\n",
    "        print(\"that was not a 1 or 2\")\n",
    "\n",
    "\n"
   ]
  },
  {
   "cell_type": "code",
   "execution_count": 8,
   "metadata": {
    "collapsed": false
   },
   "outputs": [
    {
     "name": "stdout",
     "output_type": "stream",
     "text": [
      "1 for reading from a prompt and 2 for read from file.2\n",
      "1 for profanity check and 2 for pirate conversion.2\n",
      "-- Houston, we have a problem. (Apollo 13)\n",
      "\n",
      "-- Mama always said, life be like a box of chocolates. You never know what you be going to get. (Forrest Gump)\n",
      "\n",
      "-- You cant handle thar truth. (A Few Good Men)\n",
      "\n",
      "-- I believe everything and I believe nothing. (A Shot in ye Dark)\n"
     ]
    }
   ],
   "source": [
    "decide()\n"
   ]
  }
 ],
 "metadata": {
  "anaconda-cloud": {},
  "kernelspec": {
   "display_name": "Python [Root]",
   "language": "python",
   "name": "Python [Root]"
  },
  "language_info": {
   "codemirror_mode": {
    "name": "ipython",
    "version": 2
   },
   "file_extension": ".py",
   "mimetype": "text/x-python",
   "name": "python",
   "nbconvert_exporter": "python",
   "pygments_lexer": "ipython2",
   "version": "2.7.12"
  }
 },
 "nbformat": 4,
 "nbformat_minor": 0
}
