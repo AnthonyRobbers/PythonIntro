{
 "cells": [
  {
   "cell_type": "code",
   "execution_count": 1,
   "metadata": {
    "collapsed": true
   },
   "outputs": [],
   "source": [
    "import turtle"
   ]
  },
  {
   "cell_type": "code",
   "execution_count": 2,
   "metadata": {
    "collapsed": true
   },
   "outputs": [],
   "source": [
    "def draw_polygon(some_turtle,psides,length):\n",
    "    for i in range(0,psides):\n",
    "        some_turtle.forward(length)\n",
    "        some_turtle.left(360/psides)\n",
    "\n",
    "\n"
   ]
  },
  {
   "cell_type": "code",
   "execution_count": 3,
   "metadata": {
    "collapsed": true
   },
   "outputs": [],
   "source": [
    "def draw_fractal(some_turtle,size,fsides,recursion):\n",
    "    draw_polygon(some_turtle,fsides,size)\n",
    "    if (recursion>0):        \n",
    "        for i in range(0,fsides):\n",
    "            #print(\"recursion is\",+recursion)\n",
    "            draw_fractal(some_turtle,size/2,fsides,recursion-1)\n",
    "            some_turtle.forward(size)\n",
    "            some_turtle.left(360/fsides)\n",
    "        \n"
   ]
  },
  {
   "cell_type": "code",
   "execution_count": 4,
   "metadata": {
    "collapsed": true
   },
   "outputs": [],
   "source": [
    "def draw_shapes():\n",
    "    window = turtle.Screen()\n",
    "    window.bgcolor(\"green\")\n",
    "\n",
    "    dist=200\n",
    "    recursion=2\n",
    "    sides=36\n",
    "    circle_perimiter_est=2000\n",
    "    \n",
    "    dist=circle_perimiter_est/sides\n",
    "\n",
    "    brad = turtle.Turtle()\n",
    "    brad.shape(\"arrow\")\n",
    "    brad.color(\"black\")\n",
    "    brad.speed(0)\n",
    "\n",
    "\n",
    "    draw_fractal(brad,dist,sides,recursion)\n",
    "    window.exitonclick()\n",
    "\n"
   ]
  },
  {
   "cell_type": "code",
   "execution_count": 5,
   "metadata": {
    "collapsed": true
   },
   "outputs": [],
   "source": [
    "draw_shapes()\n"
   ]
  }
 ],
 "metadata": {
  "anaconda-cloud": {},
  "kernelspec": {
   "display_name": "Python [Root]",
   "language": "python",
   "name": "Python [Root]"
  },
  "language_info": {
   "codemirror_mode": {
    "name": "ipython",
    "version": 2
   },
   "file_extension": ".py",
   "mimetype": "text/x-python",
   "name": "python",
   "nbconvert_exporter": "python",
   "pygments_lexer": "ipython2",
   "version": "2.7.12"
  }
 },
 "nbformat": 4,
 "nbformat_minor": 0
}
