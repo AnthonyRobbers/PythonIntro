{
 "cells": [
  {
   "cell_type": "code",
   "execution_count": 1,
   "metadata": {
    "collapsed": true
   },
   "outputs": [],
   "source": [
    "import urllib"
   ]
  },
  {
   "cell_type": "code",
   "execution_count": 2,
   "metadata": {
    "collapsed": true
   },
   "outputs": [],
   "source": [
    "def get_text():\n",
    "    contents_of_file = raw_input(\"The text to be converted:\")\n",
    "    # raw_input is required since it tries to execute anything given not get a string\n",
    "    \n",
    "    profane_or_pirate = input(\"1 for profanity check and 2 for pirate conversion.\")\n",
    "    if profane_or_pirate == 1:\n",
    "        check_profanity(contents_of_file)\n",
    "    elif profane_or_pirate == 2:\n",
    "        make_it_piraty(contents_of_file)\n",
    "    else:\n",
    "        print(\"that was not a 1 or 2\")\n",
    "\n"
   ]
  },
  {
   "cell_type": "code",
   "execution_count": 3,
   "metadata": {
    "collapsed": true
   },
   "outputs": [],
   "source": [
    "def check_profanity(text_to_check):\n",
    "    connection = urllib.urlopen(\"http://www.wdylike.appspot.com/?q=\"+text_to_check)\n",
    "    output = connection.read()\n",
    "    print(output)\n",
    "    connection.close()\n",
    "    \n",
    "# for pirate contersion - http://isithackday.com/arrpi.php?text=\n",
    "# for profanity check - http://www.wdylike.appspot.com/?q=\n",
    "\n",
    "\n"
   ]
  },
  {
   "cell_type": "code",
   "execution_count": 4,
   "metadata": {
    "collapsed": true
   },
   "outputs": [],
   "source": [
    "def make_it_piraty(text_to_check):\n",
    "    connection = urllib.urlopen(\"http://isithackday.com/arrpi.php?text=\"+text_to_check)\n",
    "    output = connection.read()\n",
    "    print(output)\n",
    "    connection.close()\n",
    "\n",
    "\n"
   ]
  },
  {
   "cell_type": "code",
   "execution_count": 5,
   "metadata": {
    "collapsed": false
   },
   "outputs": [
    {
     "name": "stdout",
     "output_type": "stream",
     "text": [
      "The text to be converted:this is a good day to make this code\n",
      "1 for profanity check and 2 for pirate conversion.2\n",
      "this be a good day to make this code\n"
     ]
    }
   ],
   "source": [
    "get_text()\n",
    "\n"
   ]
  }
 ],
 "metadata": {
  "anaconda-cloud": {},
  "kernelspec": {
   "display_name": "Python [Root]",
   "language": "python",
   "name": "Python [Root]"
  },
  "language_info": {
   "codemirror_mode": {
    "name": "ipython",
    "version": 2
   },
   "file_extension": ".py",
   "mimetype": "text/x-python",
   "name": "python",
   "nbconvert_exporter": "python",
   "pygments_lexer": "ipython2",
   "version": "2.7.12"
  }
 },
 "nbformat": 4,
 "nbformat_minor": 0
}
