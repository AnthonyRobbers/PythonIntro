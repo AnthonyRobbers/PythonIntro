{
 "cells": [
  {
   "cell_type": "code",
   "execution_count": 1,
   "metadata": {
    "collapsed": true
   },
   "outputs": [],
   "source": [
    "import turtle\n"
   ]
  },
  {
   "cell_type": "code",
   "execution_count": 2,
   "metadata": {
    "collapsed": true
   },
   "outputs": [],
   "source": [
    "def draw_polygon(some_turtle,sides,length):\n",
    "    for i in range(0,sides):\n",
    "        some_turtle.forward(length)\n",
    "        some_turtle.left(360/sides)\n",
    "\n"
   ]
  },
  {
   "cell_type": "code",
   "execution_count": 3,
   "metadata": {
    "collapsed": true
   },
   "outputs": [],
   "source": [
    "\n",
    "def draw_shapes():\n",
    "    window = turtle.Screen()\n",
    "    window.bgcolor(\"green\")\n",
    "\n",
    "    dist=100\n",
    "    sides=10\n",
    "\n",
    "    brad = turtle.Turtle()\n",
    "    brad.shape(\"arrow\")\n",
    "    brad.color(\"black\")\n",
    "    brad.speed(5)\n",
    "\n",
    "\n",
    "    for i in range(0,sides):\n",
    "        draw_polygon(brad,4,dist)\n",
    "        brad.left(360/sides)\n",
    "\n",
    "    #angie=turtle.Turtle()\n",
    "    #angie.shape(\"circle\")\n",
    "   # angie.color(\"blue\")\n",
    "   # angie.circle(dist)\n",
    "\n",
    "   # alice=turtle.Turtle()\n",
    "  #  alice.shape(\"turtle\")\n",
    "   # alice.color(\"red\")\n",
    "\n",
    "    #sides=0\n",
    "\n",
    "    #while (sides<3):\n",
    "     #   alice.forward(dist)\n",
    "      #  alice.left(360/3)\n",
    "      #  sides=sides+1\n",
    "    #\n",
    "\n",
    "    window.exitonclick()\n"
   ]
  },
  {
   "cell_type": "code",
   "execution_count": 4,
   "metadata": {
    "collapsed": false
   },
   "outputs": [],
   "source": [
    "draw_shapes()\n"
   ]
  }
 ],
 "metadata": {
  "anaconda-cloud": {},
  "kernelspec": {
   "display_name": "Python [Root]",
   "language": "python",
   "name": "Python [Root]"
  },
  "language_info": {
   "codemirror_mode": {
    "name": "ipython",
    "version": 2
   },
   "file_extension": ".py",
   "mimetype": "text/x-python",
   "name": "python",
   "nbconvert_exporter": "python",
   "pygments_lexer": "ipython2",
   "version": "2.7.12"
  }
 },
 "nbformat": 4,
 "nbformat_minor": 0
}
